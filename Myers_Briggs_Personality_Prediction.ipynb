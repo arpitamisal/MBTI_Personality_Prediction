{
 "cells": [
  {
   "cell_type": "code",
   "execution_count": 6,
   "id": "e4955ea1-3e9d-4c4c-8be9-3e332cfd493a",
   "metadata": {},
   "outputs": [],
   "source": [
    "%matplotlib inline\n",
    "import re \n",
    "import numpy as np # used for working with arrays, linear algebra and matrix (multidimensional arrays)\n",
    "import pandas as pd # data maipulation and analysis\n",
    "import matplotlib.pyplot as plt # cross platform data visualization and graphical charting \n",
    "import seaborn as sns # data exploration and data visualization \n",
    "import plotly.offline as py \n",
    "import plotly.graph_objs as go \n",
    "import plotly.tools as tls \n",
    "from bs4 import BeautifulSoup # generates a parsed tree to extract HTML data for web scraping \n",
    "from sklearn.model_selection import cross_validate\n",
    "from sklearn.model_selection import StratifiedKFold\n",
    "from sklearn.linear_model import LogisticRegression\n",
    "from sklearn.model_selection import learning_curve\n",
    "from sklearn.ensemble import ExtraTreesClassifier "
   ]
  },
  {
   "cell_type": "code",
   "execution_count": 10,
   "id": "defcfa7d-05ae-4e70-b258-e144e75e5bcf",
   "metadata": {},
   "outputs": [
    {
     "data": {
      "text/html": [
       "        <script type=\"text/javascript\">\n",
       "        window.PlotlyConfig = {MathJaxConfig: 'local'};\n",
       "        if (window.MathJax && window.MathJax.Hub && window.MathJax.Hub.Config) {window.MathJax.Hub.Config({SVG: {font: \"STIX-Web\"}});}\n",
       "        </script>\n",
       "        <script type=\"module\">import \"https://cdn.plot.ly/plotly-3.0.1.min\"</script>\n",
       "        "
      ]
     },
     "metadata": {},
     "output_type": "display_data"
    }
   ],
   "source": [
    "from sklearn.decomposition import TruncatedSVD\n",
    "from sklearn.feature_extraction.text import TfidfVectorizer, CountVectorizer \n",
    "from sklearn.pipeline import Pipeline # put together several phases that can be cross validated while using different parameters \n",
    "from sklearn.naive_bayes import MultinomialNB\n",
    "py.init_notebook_mode(connected = True)"
   ]
  },
  {
   "cell_type": "code",
   "execution_count": null,
   "id": "83bcd072-cd64-4e00-b237-062a392a60cc",
   "metadata": {},
   "outputs": [],
   "source": [
    "train = pd.read_csv('mbti_1.csv')"
   ]
  }
 ],
 "metadata": {
  "kernelspec": {
   "display_name": "Python 3 (ipykernel)",
   "language": "python",
   "name": "python3"
  },
  "language_info": {
   "codemirror_mode": {
    "name": "ipython",
    "version": 3
   },
   "file_extension": ".py",
   "mimetype": "text/x-python",
   "name": "python",
   "nbconvert_exporter": "python",
   "pygments_lexer": "ipython3",
   "version": "3.12.3"
  }
 },
 "nbformat": 4,
 "nbformat_minor": 5
}
